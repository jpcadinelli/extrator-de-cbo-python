{
 "cells": [
  {
   "cell_type": "code",
   "execution_count": 2,
   "metadata": {},
   "outputs": [
    {
     "name": "stdout",
     "output_type": "stream",
     "text": [
      "Defaulting to user installation because normal site-packages is not writeable\n",
      "Collecting PyPDF2\n",
      "  Downloading pypdf2-3.0.1-py3-none-any.whl.metadata (6.8 kB)\n",
      "Downloading pypdf2-3.0.1-py3-none-any.whl (232 kB)\n",
      "Installing collected packages: PyPDF2\n",
      "Successfully installed PyPDF2-3.0.1\n",
      "Note: you may need to restart the kernel to use updated packages.\n"
     ]
    }
   ],
   "source": [
    "pip install PyPDF2"
   ]
  },
  {
   "cell_type": "code",
   "execution_count": 8,
   "metadata": {},
   "outputs": [
    {
     "name": "stdout",
     "output_type": "stream",
     "text": [
      "Extração e salvamento dos CBOs concluída!\n"
     ]
    }
   ],
   "source": [
    "import json\n",
    "from PyPDF2 import PdfReader\n",
    "import re\n",
    "import os\n",
    "\n",
    "# Caminho do arquivo PDF\n",
    "pdf_path = '/home/jpcadinelli/repositorios/estrutura-de-dados-avancado-uss/pdf/CBO2002_LISTA.PDF'\n",
    "\n",
    "# Caminho do arquivo JSON onde os dados serão armazenados\n",
    "json_path = 'cbos.json'\n",
    "\n",
    "# Função para extrair dados do PDF e armazenar no arquivo JSON\n",
    "def extract_and_save_cbos(pdf_path, json_path):\n",
    "    # Ler o arquivo PDF\n",
    "    reader = PdfReader(pdf_path)\n",
    "    text = \"\"\n",
    "    for page in reader.pages:\n",
    "        text += page.extract_text()\n",
    "    \n",
    "    # Regex para extrair Código e Nome das ocupações\n",
    "    pattern = re.compile(r\"(?P<Codigo>\\d{4}-\\d{2})\\s(?P<Nome>[^\\n]+)\")\n",
    "    matches = pattern.findall(text)\n",
    "    \n",
    "    # Abrir o arquivo JSON (criar ou adicionar)\n",
    "    if os.path.exists(json_path):\n",
    "        # Se o arquivo já existe, abrir em modo append\n",
    "        with open(json_path, 'r+', encoding='utf-8') as f:\n",
    "            data = json.load(f)  # Carregar os dados existentes\n",
    "            # Adicionar novos dados\n",
    "            for codigo, nome in matches:\n",
    "                data.append({\"Codigo\": codigo, \"Nome\": nome, \"Descricao\": \"\", \"Tipo\": \"\"})\n",
    "            # Voltar o ponteiro para o início do arquivo e escrever os dados atualizados\n",
    "            f.seek(0)\n",
    "            json.dump(data, f, ensure_ascii=False, indent=4)\n",
    "    else:\n",
    "        # Se o arquivo não existe, criar e adicionar os dados\n",
    "        with open(json_path, 'w', encoding='utf-8') as f:\n",
    "            cbos = [{\"Codigo\": codigo, \"Nome\": nome, \"Descricao\": \"\", \"Tipo\": \"\"} for codigo, nome in matches]\n",
    "            json.dump(cbos, f, ensure_ascii=False, indent=4)\n",
    "\n",
    "# Chamar a função para processar o PDF e salvar no JSON\n",
    "extract_and_save_cbos(pdf_path, json_path)\n",
    "\n",
    "print(\"Extração e salvamento dos CBOs concluída!\")"
   ]
  }
 ],
 "metadata": {
  "kernelspec": {
   "display_name": "Python 3",
   "language": "python",
   "name": "python3"
  },
  "language_info": {
   "codemirror_mode": {
    "name": "ipython",
    "version": 3
   },
   "file_extension": ".py",
   "mimetype": "text/x-python",
   "name": "python",
   "nbconvert_exporter": "python",
   "pygments_lexer": "ipython3",
   "version": "3.12.7"
  }
 },
 "nbformat": 4,
 "nbformat_minor": 2
}
