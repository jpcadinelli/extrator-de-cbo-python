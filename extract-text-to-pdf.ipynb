{
 "cells": [
  {
   "cell_type": "code",
   "execution_count": 1,
   "metadata": {
    "jupyter": {
     "is_executing": true
    }
   },
   "outputs": [
    {
     "name": "stdout",
     "output_type": "stream",
     "text": [
      "Defaulting to user installation because normal site-packages is not writeable\n",
      "Requirement already satisfied: PyPDF2 in /var/data/python/lib/python3.12/site-packages (3.0.1)\n",
      "Note: you may need to restart the kernel to use updated packages.\n"
     ]
    }
   ],
   "source": [
    "pip install PyPDF2"
   ]
  },
  {
   "cell_type": "code",
   "execution_count": 2,
   "metadata": {
    "jupyter": {
     "is_executing": true
    }
   },
   "outputs": [],
   "source": [
    "import json\n",
    "from PyPDF2 import PdfReader\n",
    "import re\n",
    "import os"
   ]
  },
  {
   "cell_type": "code",
   "execution_count": 6,
   "metadata": {},
   "outputs": [
    {
     "name": "stdout",
     "output_type": "stream",
     "text": [
      "Total de correspondências encontradas: 10110\n",
      "Extração e salvamento dos CBOs concluída!\n"
     ]
    }
   ],
   "source": [
    "json_path = 'cbos.json'\n",
    "pdf_path = \"/home/jpcadinelli/PycharmProjects/extrator-de-cbo-python/pdf/CBO2002_LISTA.PDF\"\n",
    "\n",
    "def extract_and_save_cbos(pdf_path, json_path):\n",
    "    reader = PdfReader(pdf_path)\n",
    "    text = \"\"\n",
    "    for page in reader.pages:\n",
    "        text += page.extract_text()\n",
    "\n",
    "    pattern = re.compile(r\"(?P<Codigo>\\d{4}-\\d{2})\\s(?P<Nome>[^\\n]+?)\\s*(?P<Tipo>Ocupação|Sinônimo|Família)\")\n",
    "    matches = pattern.findall(text)\n",
    "\n",
    "    print(f\"Total de correspondências encontradas: {len(matches)}\")\n",
    "\n",
    "    if os.path.exists(json_path):\n",
    "        with open(json_path, 'r+', encoding='utf-8') as f:\n",
    "            data = json.load(f)\n",
    "            for codigo, nome, tipo in matches:\n",
    "                data.append({\"Codigo\": codigo, \"Nome\": nome.strip(), \"Tipo\": tipo.strip()})\n",
    "            f.seek(0)\n",
    "            json.dump(data, f, ensure_ascii=False, indent=4)\n",
    "    else:\n",
    "        with open(json_path, 'w', encoding='utf-8') as f:\n",
    "            cbos = [{\"Codigo\": codigo, \"Nome\": nome.strip(), \"Tipo\": tipo.strip()} for codigo, nome, tipo in matches]\n",
    "            json.dump(cbos, f, ensure_ascii=False, indent=4)\n",
    "\n",
    "extract_and_save_cbos(pdf_path, json_path)\n",
    "\n",
    "print(\"Extração e salvamento dos CBOs concluída!\")"
   ]
  }
 ],
 "metadata": {
  "kernelspec": {
   "display_name": "Python 3",
   "language": "python",
   "name": "python3"
  },
  "language_info": {
   "codemirror_mode": {
    "name": "ipython",
    "version": 3
   },
   "file_extension": ".py",
   "mimetype": "text/x-python",
   "name": "python",
   "nbconvert_exporter": "python",
   "pygments_lexer": "ipython3",
   "version": "3.12.7"
  }
 },
 "nbformat": 4,
 "nbformat_minor": 2
}
